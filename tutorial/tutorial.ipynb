{
 "nbformat": 4,
 "nbformat_minor": 0,
 "metadata": {
  "colab": {
   "name": "sat.ipynb",
   "provenance": [],
   "collapsed_sections": [],
   "authorship_tag": "ABX9TyPSx+kFdqnjePOqmsv1zMIo"
  },
  "kernelspec": {
   "name": "python3",
   "display_name": "Python 3"
  }
 },
 "cells": [
  {
   "cell_type": "code",
   "metadata": {
    "id": "9t39vYaFviGt",
    "pycharm": {
     "name": "#%%\n"
    }
   },
   "source": [
    "%cd\n",
    "%cd ../content\n",
    "%rm -r *\n",
    "!git clone https://github.com/alexanderskulikov/circuit_improvement.git\n",
    "%cd circuit_improvement\n",
    "%mv core/* ../circuit_improvement/\n",
    "%mkdir circuits/images/\n",
    "!sed -i \"s/core.//\" /content/circuit_improvement/functions/ex2.py\n",
    "!sed -i \"s/core.//\" /content/circuit_improvement/functions/ex3.py\n",
    "!sed -i \"s/core.//\" /content/circuit_improvement/functions/ib.py\n",
    "!sed -i \"s/core.//\" /content/circuit_improvement/functions/maj.py\n",
    "!sed -i \"s/core.//\" /content/circuit_improvement/functions/mod3.py\n",
    "!sed -i \"s/core.//\" /content/circuit_improvement/functions/sum.py\n",
    "!sed -i \"s/core.//\" /content/circuit_improvement/functions/th.py\n",
    "!sed -i \"s/core.//\" /content/circuit_improvement/tutorial.py"
   ],
   "execution_count": null,
   "outputs": []
  },
  {
   "cell_type": "code",
   "metadata": {
    "id": "txqRvHGEIxR1",
    "pycharm": {
     "name": "#%%\n"
    }
   },
   "source": [
    "!pip install pycosat\n",
    "!apt install libgraphviz-dev\n",
    "!pip install pygraphviz\n",
    "!pip install python-sat[pblib,aiger]\n",
    "import pygraphviz\n",
    "import sys\n",
    "from timeit import default_timer as timer\n",
    "from IPython.display import Image\n",
    "import circuit_improvement\n",
    "from circuit_improvement import *\n",
    "from circuit import Circuit\n",
    "from circuit_search import find_circuit, CircuitFinder\n",
    "from main import *\n",
    "from itertools import product\n",
    "from math import ceil, log2"
   ],
   "execution_count": null,
   "outputs": []
  },
  {
   "cell_type": "code",
   "metadata": {
    "id": "7VYyEQRKyPhB",
    "pycharm": {
     "name": "#%%\n"
    }
   },
   "source": [
    "#@title Improve the SUM5 circuit of size 12\n",
    "\n",
    "circuit = Circuit(input_labels=[f'x{i}' for i in range(1, 6)], gates={})\n",
    "circuit.outputs = add_sum5_suboptimal(circuit, circuit.input_labels)\n",
    "improved_circuit = improve_circuit(circuit, subcircuit_size=5, connected=True)\n",
    "print(improved_circuit)\n",
    "improved_circuit.draw('sum5')\n",
    "Image('circuits/.images/sum5.png')"
   ],
   "execution_count": null,
   "outputs": []
  },
  {
   "cell_type": "code",
   "metadata": {
    "id": "kDwdQP4q1-Ny",
    "pycharm": {
     "name": "#%%\n"
    }
   },
   "source": [
    "#@title Find an optimum circuit for SUM3 using SAT-solvers\n",
    "\n",
    "def sum_n(x):\n",
    "    return [(sum(x) >> i) & 1 for i in range(ceil(log2(len(x) + 1)))]\n",
    "\n",
    "circuit_finder = CircuitFinder(dimension=3, number_of_gates=5, function=sum_n)\n",
    "circuit = circuit_finder.solve_cnf_formula(solver=\"pysat\")\n",
    "print(circuit)"
   ],
   "execution_count": null,
   "outputs": []
  },
  {
   "cell_type": "code",
   "metadata": {
    "id": "x19RsQ15xcUt",
    "pycharm": {
     "name": "#%%\n"
    }
   },
   "source": [
    "#@title Build a circuit for SUM5 out of SUM2 and SUM3 blocks\n",
    "\n",
    "circuit = Circuit(input_labels=['x1', 'x2', 'x3', 'x4', 'x5'], gates={})\n",
    "x1, x2, x3, x4, x5 = circuit.input_labels\n",
    "a0, a1 = add_sum3(circuit, [x1, x2, x3])\n",
    "b0, b1 = add_sum3(circuit, [a0, x4, x5])\n",
    "w1, w2 = add_sum2(circuit, [a1, b1])\n",
    "circuit.outputs = [b0, w1, w2]\n",
    "check_sum_circuit(circuit)\n",
    "print(circuit)\n",
    "circuit.draw('sum5')\n",
    "Image('circuits/.images/sum5.png')"
   ],
   "execution_count": null,
   "outputs": []
  },
  {
   "cell_type": "code",
   "execution_count": null,
   "outputs": [],
   "source": [
    "#@title Verify correctness of the SUM3 circuit\n",
    "\n",
    "from itertools import product\n",
    "\n",
    "def sum3(x1, x2, x3):\n",
    "    a = x1 ^ x2\n",
    "    b = x2 ^ x3\n",
    "    c = a | b\n",
    "    w0 = a ^ x3\n",
    "    w1 = c ^ w0\n",
    "    return w0, w1\n",
    "\n",
    "for x1, x2, x3 in product(range(2), repeat=3):\n",
    "    w0, w1 = sum3(x1, x2, x3)\n",
    "    assert x1 + x2 + x3 == w0 + 2 * w1"
   ],
   "metadata": {
    "collapsed": false,
    "pycharm": {
     "name": "#%%\n"
    }
   }
  },
  {
   "cell_type": "code",
   "execution_count": null,
   "outputs": [],
   "source": [
    "#@title Find a circuit for SUM_n (for n=3,4,5) with special structure\n",
    "\n",
    "def sum_n(x):\n",
    "    return [(sum(x) >> i) & 1 for i in range(ceil(log2(len(x) + 1)))]\n",
    "\n",
    "pic = []\n",
    "\n",
    "for n, size in ((3, 5), (4, 9), (5, 11)):\n",
    "    circuit_finder = CircuitFinder(dimension=n, number_of_gates=size, function=sum_n)\n",
    "    circuit_finder.fix_gate(n, 0, 1, '0110')\n",
    "    for k in range(n - 2):\n",
    "        circuit_finder.fix_gate(n + k + 1, k + 2, n + k, '0110')\n",
    "    for i in range(1, n):\n",
    "        for j in range(n, n + size):\n",
    "            if i + n - 1 != j:\n",
    "                circuit_finder.forbid_wire(i, j)\n",
    "    circuit = circuit_finder.solve_cnf_formula(verbose=0, solver=\"pysat\")\n",
    "    circuit.draw(f'sum{n}')\n",
    "    pic.append(Image(filename=f'circuits/.images/sum{n}.png'))\n",
    "\n",
    "display(pic[0], pic[1], pic[2])"
   ],
   "metadata": {
    "collapsed": false,
    "pycharm": {
     "name": "#%%\n"
    }
   }
  },
  {
   "cell_type": "code",
   "execution_count": null,
   "outputs": [],
   "source": [
    "#@title Construct two circuits for THR2 for n=12: of size 3n-5 and of size 2n+o(n)\n",
    "\n",
    "pic = []\n",
    "\n",
    "c = Circuit(input_labels=[f'x{i}' for i in range(1, 13)], gates={})\n",
    "c.outputs = add_naive_thr2_circuit(c, c.input_labels)\n",
    "c.draw('thr2naive')\n",
    "pic.append(Image(filename=f'circuits/.images/thr2naive.png'))\n",
    "\n",
    "c = Circuit(input_labels=[f'x{i}' for i in range(1, 13)], gates={})\n",
    "c.outputs = add_efficient_thr2_circuit(c, c.input_labels, 3, 4)\n",
    "c.draw('thr2efficient')\n",
    "pic.append(Image(filename=f'circuits/.images/thr2efficient.png'))\n",
    "\n",
    "display(pic[0], pic[1])\n"
   ],
   "metadata": {
    "collapsed": false,
    "pycharm": {
     "name": "#%%\n"
    }
   }
  }
 ]
}