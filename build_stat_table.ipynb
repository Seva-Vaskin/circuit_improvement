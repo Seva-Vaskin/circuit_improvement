{
 "cells": [
  {
   "cell_type": "code",
   "execution_count": 4,
   "id": "initial_id",
   "metadata": {
    "ExecuteTime": {
     "end_time": "2024-03-03T19:49:48.074084620Z",
     "start_time": "2024-03-03T19:49:47.966804082Z"
    }
   },
   "outputs": [],
   "source": [
    "import itertools\n",
    "import sys\n",
    "from pathlib import Path\n",
    "from collections import defaultdict\n",
    "\n",
    "from generate_all_functions import BinaryFunction"
   ]
  },
  {
   "cell_type": "code",
   "execution_count": 5,
   "id": "191fbec4afb193ef",
   "metadata": {
    "collapsed": false,
    "ExecuteTime": {
     "end_time": "2024-03-03T19:49:48.110661488Z",
     "start_time": "2024-03-03T19:49:48.024446082Z"
    }
   },
   "outputs": [],
   "source": [
    "inputs = 3\n",
    "outputs = 3\n",
    "basis = 'aig'\n",
    "circuits_dir = Path('/home/vsevolod/sat/circuit_improvement/aig_res_approx')"
   ]
  },
  {
   "cell_type": "code",
   "execution_count": 6,
   "id": "966799609ce460f0",
   "metadata": {
    "collapsed": false,
    "ExecuteTime": {
     "end_time": "2024-03-03T19:52:59.343570498Z",
     "start_time": "2024-03-03T19:49:48.121316579Z"
    }
   },
   "outputs": [],
   "source": [
    "grouped_functions = BinaryFunction.all_functions_grouped(inputs, outputs, basis)"
   ]
  },
  {
   "cell_type": "code",
   "execution_count": 7,
   "id": "448baefa2429b4db",
   "metadata": {
    "collapsed": false,
    "ExecuteTime": {
     "end_time": "2024-03-03T19:52:59.394959443Z",
     "start_time": "2024-03-03T19:52:59.387921005Z"
    }
   },
   "outputs": [
    {
     "data": {
      "text/plain": "8886"
     },
     "execution_count": 7,
     "metadata": {},
     "output_type": "execute_result"
    }
   ],
   "source": [
    "len(grouped_functions.keys())"
   ]
  },
  {
   "cell_type": "code",
   "execution_count": 8,
   "id": "7787d3707a4839f0",
   "metadata": {
    "collapsed": false,
    "ExecuteTime": {
     "end_time": "2024-03-03T19:52:59.396035006Z",
     "start_time": "2024-03-03T19:52:59.388269774Z"
    }
   },
   "outputs": [],
   "source": [
    "# for key, values in grouped_functions.items():\n",
    "#     print(f\"{key}: {values}\")"
   ]
  },
  {
   "cell_type": "code",
   "execution_count": 9,
   "id": "a6bc422229aca66a",
   "metadata": {
    "collapsed": false,
    "ExecuteTime": {
     "end_time": "2024-03-03T19:53:19.072287327Z",
     "start_time": "2024-03-03T19:52:59.388472830Z"
    }
   },
   "outputs": [],
   "source": [
    "all_functions = set(BinaryFunction.all_functions(inputs, outputs))"
   ]
  },
  {
   "cell_type": "code",
   "execution_count": 10,
   "id": "a5f163df20403fa0",
   "metadata": {
    "collapsed": false,
    "ExecuteTime": {
     "end_time": "2024-03-03T19:53:19.074130299Z",
     "start_time": "2024-03-03T19:53:19.072034702Z"
    }
   },
   "outputs": [
    {
     "data": {
      "text/plain": "2763520"
     },
     "execution_count": 10,
     "metadata": {},
     "output_type": "execute_result"
    }
   ],
   "source": [
    "len(all_functions)"
   ]
  },
  {
   "cell_type": "code",
   "execution_count": 11,
   "id": "1d7ff279d908c3d3",
   "metadata": {
    "collapsed": false,
    "ExecuteTime": {
     "end_time": "2024-03-03T19:53:19.075990014Z",
     "start_time": "2024-03-03T19:53:19.072362454Z"
    }
   },
   "outputs": [],
   "source": [
    "from math import factorial\n",
    "\n",
    "def c(n, k):\n",
    "    assert 0 <= k <= n\n",
    "    return factorial(n) // factorial(k) // factorial(n - k)"
   ]
  },
  {
   "cell_type": "code",
   "execution_count": 12,
   "id": "489c8a16cc9ca066",
   "metadata": {
    "collapsed": false,
    "ExecuteTime": {
     "end_time": "2024-03-03T19:53:19.077195765Z",
     "start_time": "2024-03-03T19:53:19.072569948Z"
    }
   },
   "outputs": [],
   "source": [
    "assert len(all_functions) == c(2 ** (2 ** inputs), outputs)"
   ]
  },
  {
   "cell_type": "code",
   "execution_count": 13,
   "id": "bd189d0150515dcc",
   "metadata": {
    "collapsed": false,
    "ExecuteTime": {
     "end_time": "2024-03-03T19:53:20.848355765Z",
     "start_time": "2024-03-03T19:53:19.072751616Z"
    }
   },
   "outputs": [],
   "source": [
    "get_class = {value: key for key, values in grouped_functions.items() for value in values}"
   ]
  },
  {
   "cell_type": "code",
   "execution_count": 14,
   "id": "32c59ea340df1e7e",
   "metadata": {
    "collapsed": false,
    "ExecuteTime": {
     "end_time": "2024-03-03T19:53:20.851957183Z",
     "start_time": "2024-03-03T19:53:20.848904813Z"
    }
   },
   "outputs": [
    {
     "data": {
      "text/plain": "2828544"
     },
     "execution_count": 14,
     "metadata": {},
     "output_type": "execute_result"
    }
   ],
   "source": [
    "len(get_class.keys())"
   ]
  },
  {
   "cell_type": "code",
   "execution_count": 15,
   "id": "287bc963bade1dd8",
   "metadata": {
    "collapsed": false,
    "ExecuteTime": {
     "end_time": "2024-03-03T19:53:20.860675297Z",
     "start_time": "2024-03-03T19:53:20.854717185Z"
    }
   },
   "outputs": [],
   "source": [
    "def check_availability(function, circuits_dir):\n",
    "    assert circuits_dir.exists()\n",
    "    filename = '_'.join(function.truth_tables) + '.txt'\n",
    "    filepath = circuits_dir / filename\n",
    "    return filepath.exists()"
   ]
  },
  {
   "cell_type": "code",
   "execution_count": 16,
   "id": "535443c798907c5d",
   "metadata": {
    "collapsed": false,
    "ExecuteTime": {
     "end_time": "2024-03-03T19:53:49.208423127Z",
     "start_time": "2024-03-03T19:53:20.862316817Z"
    }
   },
   "outputs": [],
   "source": [
    "bad_set = dict()\n",
    "for function in all_functions:\n",
    "    normalized = get_class[function]\n",
    "    if not check_availability(normalized, circuits_dir):\n",
    "        bad_set[function] = normalized"
   ]
  },
  {
   "cell_type": "code",
   "execution_count": 17,
   "id": "7da90e8e-911f-4bec-907a-56c2ba2b3e79",
   "metadata": {
    "ExecuteTime": {
     "end_time": "2024-03-03T19:53:49.209779463Z",
     "start_time": "2024-03-03T19:53:49.208202812Z"
    }
   },
   "outputs": [
    {
     "data": {
      "text/plain": "0"
     },
     "execution_count": 17,
     "metadata": {},
     "output_type": "execute_result"
    }
   ],
   "source": [
    "len(bad_set)"
   ]
  },
  {
   "cell_type": "code",
   "execution_count": 18,
   "id": "6947b2e089a0fb59",
   "metadata": {
    "collapsed": false,
    "ExecuteTime": {
     "end_time": "2024-03-03T19:53:49.304926543Z",
     "start_time": "2024-03-03T19:53:49.298587020Z"
    }
   },
   "outputs": [],
   "source": [
    "def get_function_size(function, circuits_dir: Path) -> int:\n",
    "    assert circuits_dir.exists()\n",
    "    filename = '_'.join(function.truth_tables) + '.txt'\n",
    "    filepath = circuits_dir / filename\n",
    "    if not filepath.exists():\n",
    "        return -1  # Function not found\n",
    "    with filepath.open('r') as file:\n",
    "        lines = file.readlines()\n",
    "        function_size = len(lines) - 2\n",
    "        assert function_size >= 0\n",
    "        return function_size"
   ]
  },
  {
   "cell_type": "code",
   "execution_count": 19,
   "id": "e462cc307acf7e0",
   "metadata": {
    "collapsed": false,
    "scrolled": true,
    "ExecuteTime": {
     "end_time": "2024-03-03T19:54:51.453133064Z",
     "start_time": "2024-03-03T19:53:49.306004539Z"
    }
   },
   "outputs": [
    {
     "name": "stderr",
     "output_type": "stream",
     "text": [
      "============100000============\n",
      "3 -> 50, 438\n",
      "4 -> 231, 2536\n",
      "5 -> 723, 8087\n",
      "6 -> 1540, 18142\n",
      "7 -> 2311, 27410\n",
      "8 -> 2153, 26422\n",
      "9 -> 1518, 14503\n",
      "10 -> 222, 2421\n",
      "11 -> 6, 42\n",
      "============100000============\n",
      "============200000============\n",
      "3 -> 51, 866\n",
      "4 -> 231, 5122\n",
      "5 -> 725, 16192\n",
      "6 -> 1540, 36267\n",
      "7 -> 2316, 54853\n",
      "8 -> 2161, 52694\n",
      "9 -> 1587, 28945\n",
      "10 -> 224, 4983\n",
      "11 -> 6, 79\n",
      "============200000============\n",
      "============300000============\n",
      "3 -> 51, 1274\n",
      "4 -> 231, 7714\n",
      "5 -> 725, 24246\n",
      "6 -> 1540, 54309\n",
      "7 -> 2316, 82166\n",
      "8 -> 2163, 79265\n",
      "9 -> 1606, 43387\n",
      "10 -> 224, 7516\n",
      "11 -> 6, 124\n",
      "============300000============\n",
      "============400000============\n",
      "3 -> 51, 1735\n",
      "4 -> 231, 10374\n",
      "5 -> 726, 32422\n",
      "6 -> 1540, 72457\n",
      "7 -> 2317, 109622\n",
      "8 -> 2163, 105427\n",
      "9 -> 1616, 57698\n",
      "10 -> 224, 10100\n",
      "11 -> 6, 166\n",
      "============400000============\n",
      "============500000============\n",
      "3 -> 51, 2142\n",
      "4 -> 232, 13013\n",
      "5 -> 726, 40641\n",
      "6 -> 1540, 90642\n",
      "7 -> 2318, 137108\n",
      "8 -> 2163, 131509\n",
      "9 -> 1619, 72087\n",
      "10 -> 224, 12651\n",
      "11 -> 6, 208\n",
      "============500000============\n",
      "============600000============\n",
      "3 -> 51, 2578\n",
      "4 -> 232, 15723\n",
      "5 -> 726, 48782\n",
      "6 -> 1540, 108724\n",
      "7 -> 2318, 164893\n",
      "8 -> 2163, 157561\n",
      "9 -> 1622, 86346\n",
      "10 -> 224, 15151\n",
      "11 -> 6, 243\n",
      "============600000============\n",
      "============700000============\n",
      "3 -> 51, 3002\n",
      "4 -> 232, 18322\n",
      "5 -> 726, 56980\n",
      "6 -> 1540, 126789\n",
      "7 -> 2318, 192669\n",
      "8 -> 2163, 183783\n",
      "9 -> 1622, 100564\n",
      "10 -> 224, 17610\n",
      "11 -> 6, 282\n",
      "============700000============\n",
      "============800000============\n",
      "3 -> 51, 3439\n",
      "4 -> 232, 21038\n",
      "5 -> 726, 65012\n",
      "6 -> 1540, 145015\n",
      "7 -> 2318, 220206\n",
      "8 -> 2163, 210025\n",
      "9 -> 1623, 114789\n",
      "10 -> 224, 20153\n",
      "11 -> 6, 324\n",
      "============800000============\n",
      "============900000============\n",
      "3 -> 51, 3853\n",
      "4 -> 232, 23628\n",
      "5 -> 726, 73239\n",
      "6 -> 1540, 162946\n",
      "7 -> 2318, 247867\n",
      "8 -> 2163, 236446\n",
      "9 -> 1623, 129031\n",
      "10 -> 224, 22631\n",
      "11 -> 6, 360\n",
      "============900000============\n",
      "============1000000============\n",
      "3 -> 51, 4268\n",
      "4 -> 232, 26232\n",
      "5 -> 726, 81378\n",
      "6 -> 1540, 181022\n",
      "7 -> 2318, 275399\n",
      "8 -> 2163, 262699\n",
      "9 -> 1624, 143528\n",
      "10 -> 224, 25076\n",
      "11 -> 6, 399\n",
      "============1000000============\n",
      "============1100000============\n",
      "3 -> 51, 4682\n",
      "4 -> 232, 28860\n",
      "5 -> 726, 89535\n",
      "6 -> 1540, 198949\n",
      "7 -> 2318, 302839\n",
      "8 -> 2163, 288992\n",
      "9 -> 1625, 158063\n",
      "10 -> 224, 27644\n",
      "11 -> 6, 437\n",
      "============1100000============\n",
      "============1200000============\n",
      "3 -> 51, 5101\n",
      "4 -> 232, 31421\n",
      "5 -> 726, 97536\n",
      "6 -> 1540, 217047\n",
      "7 -> 2318, 330510\n",
      "8 -> 2163, 315297\n",
      "9 -> 1625, 172522\n",
      "10 -> 224, 30092\n",
      "11 -> 6, 475\n",
      "============1200000============\n",
      "============1300000============\n",
      "3 -> 51, 5517\n",
      "4 -> 232, 34067\n",
      "5 -> 726, 105693\n",
      "6 -> 1540, 235183\n",
      "7 -> 2318, 357980\n",
      "8 -> 2163, 341431\n",
      "9 -> 1626, 186992\n",
      "10 -> 224, 32625\n",
      "11 -> 6, 513\n",
      "============1300000============\n",
      "============1400000============\n",
      "3 -> 51, 5946\n",
      "4 -> 232, 36735\n",
      "5 -> 726, 113670\n",
      "6 -> 1540, 253155\n",
      "7 -> 2318, 385533\n",
      "8 -> 2163, 367822\n",
      "9 -> 1626, 201393\n",
      "10 -> 224, 35189\n",
      "11 -> 6, 558\n",
      "============1400000============\n",
      "============1500000============\n",
      "3 -> 51, 6370\n",
      "4 -> 232, 39344\n",
      "5 -> 726, 121643\n",
      "6 -> 1540, 271354\n",
      "7 -> 2318, 413143\n",
      "8 -> 2163, 394123\n",
      "9 -> 1626, 215686\n",
      "10 -> 224, 37730\n",
      "11 -> 6, 608\n",
      "============1500000============\n",
      "============1600000============\n",
      "3 -> 51, 6799\n",
      "4 -> 232, 41955\n",
      "5 -> 726, 129765\n",
      "6 -> 1540, 289410\n",
      "7 -> 2318, 440577\n",
      "8 -> 2163, 420481\n",
      "9 -> 1626, 230136\n",
      "10 -> 224, 40228\n",
      "11 -> 6, 650\n",
      "============1600000============\n",
      "============1700000============\n",
      "3 -> 51, 7218\n",
      "4 -> 232, 44507\n",
      "5 -> 726, 137869\n",
      "6 -> 1540, 307445\n",
      "7 -> 2318, 467897\n",
      "8 -> 2163, 447049\n",
      "9 -> 1626, 244606\n",
      "10 -> 224, 42724\n",
      "11 -> 6, 686\n",
      "============1700000============\n",
      "============1800000============\n",
      "3 -> 51, 7648\n",
      "4 -> 232, 47016\n",
      "5 -> 726, 146042\n",
      "6 -> 1540, 325358\n",
      "7 -> 2318, 495744\n",
      "8 -> 2163, 473248\n",
      "9 -> 1626, 258955\n",
      "10 -> 224, 45262\n",
      "11 -> 6, 728\n",
      "============1800000============\n",
      "============1900000============\n",
      "3 -> 51, 8122\n",
      "4 -> 232, 49797\n",
      "5 -> 726, 154151\n",
      "6 -> 1540, 343090\n",
      "7 -> 2318, 523504\n",
      "8 -> 2163, 499690\n",
      "9 -> 1626, 273042\n",
      "10 -> 224, 47837\n",
      "11 -> 6, 768\n",
      "============1900000============\n",
      "============2000000============\n",
      "3 -> 51, 8555\n",
      "4 -> 232, 52403\n",
      "5 -> 726, 162244\n",
      "6 -> 1540, 361082\n",
      "7 -> 2318, 551135\n",
      "8 -> 2163, 526047\n",
      "9 -> 1626, 287399\n",
      "10 -> 224, 50324\n",
      "11 -> 6, 812\n",
      "============2000000============\n",
      "============2100000============\n",
      "3 -> 51, 8998\n",
      "4 -> 232, 55008\n",
      "5 -> 726, 170359\n",
      "6 -> 1540, 379044\n",
      "7 -> 2318, 578697\n",
      "8 -> 2163, 552419\n",
      "9 -> 1626, 301720\n",
      "10 -> 224, 52883\n",
      "11 -> 6, 873\n",
      "============2100000============\n",
      "============2200000============\n",
      "3 -> 51, 9433\n",
      "4 -> 232, 57639\n",
      "5 -> 726, 178410\n",
      "6 -> 1540, 397409\n",
      "7 -> 2318, 606303\n",
      "8 -> 2163, 578500\n",
      "9 -> 1626, 316014\n",
      "10 -> 224, 55380\n",
      "11 -> 6, 913\n",
      "============2200000============\n",
      "============2300000============\n",
      "3 -> 51, 9877\n",
      "4 -> 232, 60130\n",
      "5 -> 726, 186375\n",
      "6 -> 1540, 415279\n",
      "7 -> 2318, 633830\n",
      "8 -> 2163, 604948\n",
      "9 -> 1626, 330694\n",
      "10 -> 224, 57922\n",
      "11 -> 6, 946\n",
      "============2300000============\n",
      "============2400000============\n",
      "3 -> 51, 10285\n",
      "4 -> 232, 62772\n",
      "5 -> 726, 194529\n",
      "6 -> 1540, 433302\n",
      "7 -> 2318, 661623\n",
      "8 -> 2163, 631062\n",
      "9 -> 1626, 345008\n",
      "10 -> 224, 60441\n",
      "11 -> 6, 979\n",
      "============2400000============\n",
      "============2500000============\n",
      "3 -> 51, 10733\n",
      "4 -> 232, 65409\n",
      "5 -> 726, 202529\n",
      "6 -> 1540, 451336\n",
      "7 -> 2318, 689278\n",
      "8 -> 2163, 657667\n",
      "9 -> 1626, 359198\n",
      "10 -> 224, 62830\n",
      "11 -> 6, 1021\n",
      "============2500000============\n",
      "============2600000============\n",
      "3 -> 51, 11149\n",
      "4 -> 232, 67998\n",
      "5 -> 726, 210603\n",
      "6 -> 1540, 469389\n",
      "7 -> 2318, 716892\n",
      "8 -> 2163, 684004\n",
      "9 -> 1626, 373462\n",
      "10 -> 224, 65442\n",
      "11 -> 6, 1062\n",
      "============2600000============\n",
      "============2700000============\n",
      "3 -> 51, 11579\n",
      "4 -> 232, 70624\n",
      "5 -> 726, 218617\n",
      "6 -> 1540, 487297\n",
      "7 -> 2318, 744606\n",
      "8 -> 2163, 710420\n",
      "9 -> 1626, 387770\n",
      "10 -> 224, 67994\n",
      "11 -> 6, 1094\n",
      "============2700000============\n"
     ]
    },
    {
     "name": "stdout",
     "output_type": "stream",
     "text": [
      "Final table:\n",
      "3 -> 51, 11840\n",
      "4 -> 232, 72264\n",
      "5 -> 726, 223640\n",
      "6 -> 1540, 498720\n",
      "7 -> 2318, 762128\n",
      "8 -> 2163, 727264\n",
      "9 -> 1626, 396880\n",
      "10 -> 224, 69664\n",
      "11 -> 6, 1120\n"
     ]
    }
   ],
   "source": [
    "classes = defaultdict(set)\n",
    "functions = defaultdict(int)\n",
    "\n",
    "for i, function in enumerate(all_functions):\n",
    "    class_representative = get_class[function]\n",
    "    function_size = get_function_size(class_representative, circuits_dir)\n",
    "    classes[function_size].add(class_representative)\n",
    "    functions[function_size] += 1\n",
    "    \n",
    "    if i % 100000 == 0 and i > 0:\n",
    "        print(f'============{i}============', file=sys.stderr)\n",
    "        for s in sorted(classes.keys()):\n",
    "            print(f'{s} -> {len(classes[s])}, {functions[s]}', file=sys.stderr)\n",
    "        print(f'============{i}============', file=sys.stderr)\n",
    "\n",
    "print(\"Final table:\")\n",
    "for s in sorted(classes.keys()):\n",
    "    print(f'{s} -> {len(classes[s])}, {functions[s]}')"
   ]
  },
  {
   "cell_type": "code",
   "execution_count": 20,
   "id": "d53eade13d63450",
   "metadata": {
    "collapsed": false,
    "ExecuteTime": {
     "end_time": "2024-03-03T19:54:51.460842450Z",
     "start_time": "2024-03-03T19:54:51.455866839Z"
    }
   },
   "outputs": [
    {
     "name": "stdout",
     "output_type": "stream",
     "text": [
      "Sanity check: True\n",
      "Total functions enumerated: 2763520\n",
      "2763520 functions expected\n"
     ]
    }
   ],
   "source": [
    "expected_functions = c(2 ** (2 ** inputs), outputs)\n",
    "sanity_check = sum(functions.values()) == expected_functions\n",
    "print(f\"Sanity check: {sanity_check}\")\n",
    "print(f\"Total functions enumerated: {sum(functions.values())}\")\n",
    "print(f\"{expected_functions} functions expected\")"
   ]
  },
  {
   "cell_type": "code",
   "execution_count": 21,
   "id": "3a0e76c558378b97",
   "metadata": {
    "collapsed": false,
    "ExecuteTime": {
     "end_time": "2024-03-03T19:54:51.469686772Z",
     "start_time": "2024-03-03T19:54:51.459412082Z"
    }
   },
   "outputs": [
    {
     "name": "stdout",
     "output_type": "stream",
     "text": [
      "classes found rate: 1.0\n",
      "functions found rate: 1.0\n"
     ]
    }
   ],
   "source": [
    "print(f\"classes found rate: {1 - len(classes[-1]) / sum(map(len, classes.values()))}\")\n",
    "print(f\"functions found rate: {1 - functions[-1] / sum(functions.values())}\")"
   ]
  },
  {
   "cell_type": "code",
   "execution_count": 21,
   "id": "f5e381232fd7539d",
   "metadata": {
    "collapsed": false,
    "ExecuteTime": {
     "end_time": "2024-03-03T19:54:51.524081297Z",
     "start_time": "2024-03-03T19:54:51.469346551Z"
    }
   },
   "outputs": [],
   "source": []
  }
 ],
 "metadata": {
  "kernelspec": {
   "display_name": "Python 3 (ipykernel)",
   "language": "python",
   "name": "python3"
  },
  "language_info": {
   "codemirror_mode": {
    "name": "ipython",
    "version": 3
   },
   "file_extension": ".py",
   "mimetype": "text/x-python",
   "name": "python",
   "nbconvert_exporter": "python",
   "pygments_lexer": "ipython3",
   "version": "3.10.12"
  }
 },
 "nbformat": 4,
 "nbformat_minor": 5
}
