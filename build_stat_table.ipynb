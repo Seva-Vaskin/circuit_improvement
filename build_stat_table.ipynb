{
 "cells": [
  {
   "cell_type": "code",
   "execution_count": 1,
   "id": "initial_id",
   "metadata": {
    "ExecuteTime": {
     "end_time": "2024-02-06T12:54:15.044061381Z",
     "start_time": "2024-02-06T12:54:14.957884199Z"
    }
   },
   "outputs": [],
   "source": [
    "import itertools\n",
    "import sys\n",
    "from pathlib import Path\n",
    "from collections import defaultdict\n",
    "\n",
    "from generate_all_functions import BinaryFunction"
   ]
  },
  {
   "cell_type": "code",
   "execution_count": 2,
   "id": "191fbec4afb193ef",
   "metadata": {
    "ExecuteTime": {
     "end_time": "2024-02-06T12:54:15.155634453Z",
     "start_time": "2024-02-06T12:54:15.089508191Z"
    },
    "collapsed": false,
    "jupyter": {
     "outputs_hidden": false
    }
   },
   "outputs": [],
   "source": [
    "inputs = 3\n",
    "outputs = 3\n",
    "basis = 'aig'\n",
    "circuits_dir = Path('./aig_res')"
   ]
  },
  {
   "cell_type": "code",
   "execution_count": 3,
   "id": "966799609ce460f0",
   "metadata": {
    "ExecuteTime": {
     "end_time": "2024-02-06T13:01:38.666600791Z",
     "start_time": "2024-02-06T12:54:15.135796172Z"
    },
    "collapsed": false,
    "jupyter": {
     "outputs_hidden": false
    }
   },
   "outputs": [],
   "source": [
    "grouped_functions = BinaryFunction.all_functions_grouped(inputs, outputs, basis)"
   ]
  },
  {
   "cell_type": "code",
   "execution_count": 4,
   "id": "448baefa2429b4db",
   "metadata": {
    "ExecuteTime": {
     "end_time": "2024-02-06T13:01:38.685374757Z",
     "start_time": "2024-02-06T13:01:38.670077492Z"
    },
    "collapsed": false,
    "jupyter": {
     "outputs_hidden": false
    }
   },
   "outputs": [
    {
     "data": {
      "text/plain": [
       "8886"
      ]
     },
     "execution_count": 4,
     "metadata": {},
     "output_type": "execute_result"
    }
   ],
   "source": [
    "len(grouped_functions.keys())"
   ]
  },
  {
   "cell_type": "code",
   "execution_count": 5,
   "id": "7787d3707a4839f0",
   "metadata": {
    "ExecuteTime": {
     "end_time": "2024-02-06T13:01:43.091976379Z",
     "start_time": "2024-02-06T13:01:43.089375804Z"
    },
    "collapsed": false,
    "jupyter": {
     "outputs_hidden": false
    }
   },
   "outputs": [],
   "source": [
    "# for key, values in grouped_functions.items():\n",
    "#     print(f\"{key}: {values}\")"
   ]
  },
  {
   "cell_type": "code",
   "execution_count": 6,
   "id": "a6bc422229aca66a",
   "metadata": {
    "ExecuteTime": {
     "end_time": "2024-02-06T13:03:02.601559101Z",
     "start_time": "2024-02-06T13:02:52.087373108Z"
    },
    "collapsed": false,
    "jupyter": {
     "outputs_hidden": false
    }
   },
   "outputs": [],
   "source": [
    "all_functions = set(BinaryFunction.all_functions(inputs, outputs))"
   ]
  },
  {
   "cell_type": "code",
   "execution_count": 7,
   "id": "a5f163df20403fa0",
   "metadata": {
    "ExecuteTime": {
     "end_time": "2024-02-06T13:03:02.606518632Z",
     "start_time": "2024-02-06T13:03:02.602569292Z"
    },
    "collapsed": false,
    "jupyter": {
     "outputs_hidden": false
    }
   },
   "outputs": [
    {
     "data": {
      "text/plain": [
       "2763520"
      ]
     },
     "execution_count": 7,
     "metadata": {},
     "output_type": "execute_result"
    }
   ],
   "source": [
    "len(all_functions)"
   ]
  },
  {
   "cell_type": "code",
   "execution_count": 8,
   "id": "1d7ff279d908c3d3",
   "metadata": {
    "ExecuteTime": {
     "end_time": "2024-02-06T13:04:27.530520842Z",
     "start_time": "2024-02-06T13:04:27.519589657Z"
    },
    "collapsed": false,
    "jupyter": {
     "outputs_hidden": false
    }
   },
   "outputs": [],
   "source": [
    "from math import factorial\n",
    "\n",
    "def c(n, k):\n",
    "    assert 0 <= k <= n\n",
    "    return factorial(n) // factorial(k) // factorial(n - k)"
   ]
  },
  {
   "cell_type": "code",
   "execution_count": 9,
   "id": "489c8a16cc9ca066",
   "metadata": {
    "ExecuteTime": {
     "end_time": "2024-02-06T13:04:55.918657486Z",
     "start_time": "2024-02-06T13:04:55.917668884Z"
    },
    "collapsed": false,
    "jupyter": {
     "outputs_hidden": false
    }
   },
   "outputs": [],
   "source": [
    "assert len(all_functions) == c(2 ** (2 ** inputs), outputs)"
   ]
  },
  {
   "cell_type": "code",
   "execution_count": 10,
   "id": "bd189d0150515dcc",
   "metadata": {
    "ExecuteTime": {
     "end_time": "2024-02-05T14:07:48.881196045Z",
     "start_time": "2024-02-05T14:07:46.699378574Z"
    },
    "collapsed": false,
    "jupyter": {
     "outputs_hidden": false
    }
   },
   "outputs": [],
   "source": [
    "get_class = {value: key for key, values in grouped_functions.items() for value in values}"
   ]
  },
  {
   "cell_type": "code",
   "execution_count": 11,
   "id": "32c59ea340df1e7e",
   "metadata": {
    "ExecuteTime": {
     "end_time": "2024-02-05T14:07:48.893567519Z",
     "start_time": "2024-02-05T14:07:48.883518796Z"
    },
    "collapsed": false,
    "jupyter": {
     "outputs_hidden": false
    }
   },
   "outputs": [
    {
     "data": {
      "text/plain": [
       "2828544"
      ]
     },
     "execution_count": 11,
     "metadata": {},
     "output_type": "execute_result"
    }
   ],
   "source": [
    "len(get_class.keys())"
   ]
  },
  {
   "cell_type": "code",
   "execution_count": 12,
   "id": "287bc963bade1dd8",
   "metadata": {
    "ExecuteTime": {
     "end_time": "2024-02-05T14:12:03.724908413Z",
     "start_time": "2024-02-05T14:12:03.723200764Z"
    },
    "collapsed": false,
    "jupyter": {
     "outputs_hidden": false
    }
   },
   "outputs": [],
   "source": [
    "def check_availability(function, circuits_dir):\n",
    "    assert circuits_dir.exists()\n",
    "    filename = '_'.join(function.truth_tables) + '.txt'\n",
    "    filepath = circuits_dir / filename\n",
    "    return filepath.exists()"
   ]
  },
  {
   "cell_type": "code",
   "execution_count": 13,
   "id": "535443c798907c5d",
   "metadata": {
    "ExecuteTime": {
     "end_time": "2024-02-05T14:32:30.428309376Z",
     "start_time": "2024-02-05T14:32:14.343069903Z"
    },
    "collapsed": false,
    "jupyter": {
     "outputs_hidden": false
    }
   },
   "outputs": [],
   "source": [
    "bad_set = dict()\n",
    "for function in all_functions:\n",
    "    normalized = get_class[function]\n",
    "    if not check_availability(normalized, circuits_dir):\n",
    "        bad_set[function] = normalized"
   ]
  },
  {
   "cell_type": "code",
   "execution_count": 15,
   "id": "7da90e8e-911f-4bec-907a-56c2ba2b3e79",
   "metadata": {},
   "outputs": [
    {
     "data": {
      "text/plain": [
       "462992"
      ]
     },
     "execution_count": 15,
     "metadata": {},
     "output_type": "execute_result"
    }
   ],
   "source": [
    "len(bad_set)"
   ]
  },
  {
   "cell_type": "code",
   "execution_count": 16,
   "id": "6947b2e089a0fb59",
   "metadata": {
    "ExecuteTime": {
     "end_time": "2024-01-29T09:32:07.310398361Z",
     "start_time": "2024-01-29T09:32:07.294606201Z"
    },
    "collapsed": false,
    "jupyter": {
     "outputs_hidden": false
    }
   },
   "outputs": [],
   "source": [
    "def get_function_size(function, circuits_dir: Path) -> int:\n",
    "    assert circuits_dir.exists()\n",
    "    filename = '_'.join(function.truth_tables) + '.txt'\n",
    "    filepath = circuits_dir / filename\n",
    "    if not filepath.exists():\n",
    "        return -1  # Function not found\n",
    "    with filepath.open('r') as file:\n",
    "        lines = file.readlines()\n",
    "        function_size = len(lines) - 2\n",
    "        assert function_size >= 0\n",
    "        return function_size"
   ]
  },
  {
   "cell_type": "code",
   "execution_count": 17,
   "id": "e462cc307acf7e0",
   "metadata": {
    "ExecuteTime": {
     "end_time": "2024-01-29T12:01:59.879305994Z",
     "start_time": "2024-01-29T12:01:59.361699625Z"
    },
    "collapsed": false,
    "jupyter": {
     "outputs_hidden": false
    },
    "scrolled": true
   },
   "outputs": [
    {
     "name": "stderr",
     "output_type": "stream",
     "text": [
      "============100000============\n",
      "-1 -> 1745, 16801\n",
      "3 -> 49, 426\n",
      "4 -> 231, 2690\n",
      "5 -> 722, 8188\n",
      "6 -> 1534, 17930\n",
      "7 -> 2313, 27624\n",
      "8 -> 2160, 26193\n",
      "9 -> 16, 149\n",
      "============100000============\n",
      "============200000============\n",
      "-1 -> 1803, 33595\n",
      "3 -> 51, 831\n",
      "4 -> 231, 5406\n",
      "5 -> 725, 16199\n",
      "6 -> 1539, 36170\n",
      "7 -> 2317, 55310\n",
      "8 -> 2163, 52178\n",
      "9 -> 16, 312\n",
      "============200000============\n",
      "============300000============\n",
      "-1 -> 1819, 50376\n",
      "3 -> 51, 1217\n",
      "4 -> 232, 8040\n",
      "5 -> 725, 24129\n",
      "6 -> 1540, 54337\n",
      "7 -> 2318, 82970\n",
      "8 -> 2163, 78447\n",
      "9 -> 16, 485\n",
      "============300000============\n",
      "============400000============\n",
      "-1 -> 1826, 67093\n",
      "3 -> 51, 1649\n",
      "4 -> 232, 10558\n",
      "5 -> 726, 32122\n",
      "6 -> 1540, 72148\n",
      "7 -> 2318, 110846\n",
      "8 -> 2163, 104920\n",
      "9 -> 16, 665\n",
      "============400000============\n",
      "============500000============\n",
      "-1 -> 1832, 83791\n",
      "3 -> 51, 2070\n",
      "4 -> 232, 13242\n",
      "5 -> 726, 40311\n",
      "6 -> 1540, 90057\n",
      "7 -> 2318, 138288\n",
      "8 -> 2163, 131395\n",
      "9 -> 16, 847\n",
      "============500000============\n",
      "============600000============\n",
      "-1 -> 1834, 100311\n",
      "3 -> 51, 2510\n",
      "4 -> 232, 15813\n",
      "5 -> 726, 48434\n",
      "6 -> 1540, 108105\n",
      "7 -> 2318, 166056\n",
      "8 -> 2163, 157737\n",
      "9 -> 16, 1035\n",
      "============600000============\n",
      "============700000============\n",
      "-1 -> 1834, 117022\n",
      "3 -> 51, 2975\n",
      "4 -> 232, 18438\n",
      "5 -> 726, 56681\n",
      "6 -> 1540, 125930\n",
      "7 -> 2318, 193553\n",
      "8 -> 2163, 184204\n",
      "9 -> 16, 1198\n",
      "============700000============\n",
      "============800000============\n",
      "-1 -> 1835, 133790\n",
      "3 -> 51, 3384\n",
      "4 -> 232, 21106\n",
      "5 -> 726, 64864\n",
      "6 -> 1540, 144239\n",
      "7 -> 2318, 221009\n",
      "8 -> 2163, 210255\n",
      "9 -> 16, 1354\n",
      "============800000============\n",
      "============900000============\n",
      "-1 -> 1836, 150375\n",
      "3 -> 51, 3810\n",
      "4 -> 232, 23716\n",
      "5 -> 726, 72993\n",
      "6 -> 1540, 162174\n",
      "7 -> 2318, 248636\n",
      "8 -> 2163, 236773\n",
      "9 -> 16, 1524\n",
      "============900000============\n",
      "============1000000============\n",
      "-1 -> 1838, 167163\n",
      "3 -> 51, 4226\n",
      "4 -> 232, 26337\n",
      "5 -> 726, 81016\n",
      "6 -> 1540, 180323\n",
      "7 -> 2318, 276046\n",
      "8 -> 2163, 263197\n",
      "9 -> 16, 1693\n",
      "============1000000============\n",
      "============1100000============\n",
      "-1 -> 1838, 184018\n",
      "3 -> 51, 4650\n",
      "4 -> 232, 28942\n",
      "5 -> 726, 89095\n",
      "6 -> 1540, 198352\n",
      "7 -> 2318, 303574\n",
      "8 -> 2163, 289510\n",
      "9 -> 16, 1860\n",
      "============1100000============\n",
      "============1200000============\n",
      "-1 -> 1838, 200709\n",
      "3 -> 51, 5063\n",
      "4 -> 232, 31488\n",
      "5 -> 726, 97053\n",
      "6 -> 1540, 216484\n",
      "7 -> 2318, 331192\n",
      "8 -> 2163, 315979\n",
      "9 -> 16, 2033\n",
      "============1200000============\n",
      "============1300000============\n",
      "-1 -> 1838, 217361\n",
      "3 -> 51, 5527\n",
      "4 -> 232, 34101\n",
      "5 -> 726, 105349\n",
      "6 -> 1540, 234455\n",
      "7 -> 2318, 358716\n",
      "8 -> 2163, 342302\n",
      "9 -> 16, 2190\n",
      "============1300000============\n",
      "============1400000============\n",
      "-1 -> 1838, 233932\n",
      "3 -> 51, 5960\n",
      "4 -> 232, 36654\n",
      "5 -> 726, 113442\n",
      "6 -> 1540, 252701\n",
      "7 -> 2318, 386404\n",
      "8 -> 2163, 368548\n",
      "9 -> 16, 2360\n",
      "============1400000============\n",
      "============1500000============\n",
      "-1 -> 1838, 250724\n",
      "3 -> 51, 6361\n",
      "4 -> 232, 39350\n",
      "5 -> 726, 121443\n",
      "6 -> 1540, 270807\n",
      "7 -> 2318, 413952\n",
      "8 -> 2163, 394833\n",
      "9 -> 16, 2531\n",
      "============1500000============\n",
      "============1600000============\n",
      "-1 -> 1838, 267633\n",
      "3 -> 51, 6757\n",
      "4 -> 232, 41970\n",
      "5 -> 726, 129531\n",
      "6 -> 1540, 288929\n",
      "7 -> 2318, 441672\n",
      "8 -> 2163, 420814\n",
      "9 -> 16, 2695\n",
      "============1600000============\n",
      "============1700000============\n",
      "-1 -> 1839, 284251\n",
      "3 -> 51, 7164\n",
      "4 -> 232, 44636\n",
      "5 -> 726, 137619\n",
      "6 -> 1540, 306837\n",
      "7 -> 2318, 469214\n",
      "8 -> 2163, 447434\n",
      "9 -> 16, 2846\n",
      "============1700000============\n",
      "============1800000============\n",
      "-1 -> 1839, 301109\n",
      "3 -> 51, 7590\n",
      "4 -> 232, 47083\n",
      "5 -> 726, 145711\n",
      "6 -> 1540, 324840\n",
      "7 -> 2318, 496963\n",
      "8 -> 2163, 473673\n",
      "9 -> 16, 3032\n",
      "============1800000============\n",
      "============1900000============\n",
      "-1 -> 1839, 318086\n",
      "3 -> 51, 8041\n",
      "4 -> 232, 49715\n",
      "5 -> 726, 153764\n",
      "6 -> 1540, 342759\n",
      "7 -> 2318, 524488\n",
      "8 -> 2163, 499956\n",
      "9 -> 16, 3192\n",
      "============1900000============\n",
      "============2000000============\n",
      "-1 -> 1839, 334925\n",
      "3 -> 51, 8525\n",
      "4 -> 232, 52296\n",
      "5 -> 726, 161879\n",
      "6 -> 1540, 360739\n",
      "7 -> 2318, 551985\n",
      "8 -> 2163, 526285\n",
      "9 -> 16, 3367\n",
      "============2000000============\n",
      "============2100000============\n",
      "-1 -> 1839, 351582\n",
      "3 -> 51, 8983\n",
      "4 -> 232, 54895\n",
      "5 -> 726, 170032\n",
      "6 -> 1540, 378920\n",
      "7 -> 2318, 579489\n",
      "8 -> 2163, 552568\n",
      "9 -> 16, 3532\n",
      "============2100000============\n",
      "============2200000============\n",
      "-1 -> 1839, 368192\n",
      "3 -> 51, 9414\n",
      "4 -> 232, 57546\n",
      "5 -> 726, 178076\n",
      "6 -> 1540, 397002\n",
      "7 -> 2318, 607162\n",
      "8 -> 2163, 578913\n",
      "9 -> 16, 3696\n",
      "============2200000============\n",
      "============2300000============\n",
      "-1 -> 1840, 385173\n",
      "3 -> 51, 9819\n",
      "4 -> 232, 60235\n",
      "5 -> 726, 186214\n",
      "6 -> 1540, 415041\n",
      "7 -> 2318, 634458\n",
      "8 -> 2163, 605191\n",
      "9 -> 16, 3870\n",
      "============2300000============\n",
      "============2400000============\n",
      "-1 -> 1840, 402098\n",
      "3 -> 51, 10238\n",
      "4 -> 232, 62832\n",
      "5 -> 726, 194259\n",
      "6 -> 1540, 433133\n",
      "7 -> 2318, 661928\n",
      "8 -> 2163, 631482\n",
      "9 -> 16, 4031\n",
      "============2400000============\n",
      "============2500000============\n",
      "-1 -> 1840, 418891\n",
      "3 -> 51, 10656\n",
      "4 -> 232, 65452\n",
      "5 -> 726, 202203\n",
      "6 -> 1540, 451017\n",
      "7 -> 2318, 689488\n",
      "8 -> 2163, 658088\n",
      "9 -> 16, 4206\n",
      "============2500000============\n",
      "============2600000============\n",
      "-1 -> 1840, 435674\n",
      "3 -> 51, 11093\n",
      "4 -> 232, 68063\n",
      "5 -> 726, 210218\n",
      "6 -> 1540, 469147\n",
      "7 -> 2318, 717053\n",
      "8 -> 2163, 684385\n",
      "9 -> 16, 4368\n",
      "============2600000============\n",
      "============2700000============\n",
      "-1 -> 1840, 452329\n",
      "3 -> 51, 11531\n",
      "4 -> 232, 70638\n",
      "5 -> 726, 218459\n",
      "6 -> 1540, 487046\n",
      "7 -> 2318, 744629\n",
      "8 -> 2163, 710813\n",
      "9 -> 16, 4556\n",
      "============2700000============\n"
     ]
    },
    {
     "name": "stdout",
     "output_type": "stream",
     "text": [
      "Final table:\n",
      "-1 -> 1840, 462992\n",
      "3 -> 51, 11840\n",
      "4 -> 232, 72264\n",
      "5 -> 726, 223640\n",
      "6 -> 1540, 498720\n",
      "7 -> 2318, 762128\n",
      "8 -> 2163, 727264\n",
      "9 -> 16, 4672\n"
     ]
    }
   ],
   "source": [
    "classes = defaultdict(set)\n",
    "functions = defaultdict(int)\n",
    "\n",
    "for i, function in enumerate(all_functions):\n",
    "    class_representative = get_class[function]\n",
    "    function_size = get_function_size(class_representative, circuits_dir)\n",
    "    classes[function_size].add(class_representative)\n",
    "    functions[function_size] += 1\n",
    "    \n",
    "    if i % 100000 == 0 and i > 0:\n",
    "        print(f'============{i}============', file=sys.stderr)\n",
    "        for s in sorted(classes.keys()):\n",
    "            print(f'{s} -> {len(classes[s])}, {functions[s]}', file=sys.stderr)\n",
    "        print(f'============{i}============', file=sys.stderr)\n",
    "\n",
    "print(\"Final table:\")\n",
    "for s in sorted(classes.keys()):\n",
    "    print(f'{s} -> {len(classes[s])}, {functions[s]}')"
   ]
  },
  {
   "cell_type": "code",
   "execution_count": 18,
   "id": "d53eade13d63450",
   "metadata": {
    "ExecuteTime": {
     "end_time": "2024-01-29T09:38:37.866531389Z",
     "start_time": "2024-01-29T09:38:37.864140277Z"
    },
    "collapsed": false,
    "jupyter": {
     "outputs_hidden": false
    }
   },
   "outputs": [
    {
     "name": "stdout",
     "output_type": "stream",
     "text": [
      "Sanity check: True\n",
      "Total functions enumerated: 2763520\n",
      "2763520 functions expected\n"
     ]
    }
   ],
   "source": [
    "expected_functions = c(2 ** (2 ** inputs), outputs)\n",
    "sanity_check = sum(functions.values()) == expected_functions\n",
    "print(f\"Sanity check: {sanity_check}\")\n",
    "print(f\"Total functions enumerated: {sum(functions.values())}\")\n",
    "print(f\"{expected_functions} functions expected\")"
   ]
  },
  {
   "cell_type": "code",
   "execution_count": 28,
   "id": "3a0e76c558378b97",
   "metadata": {
    "ExecuteTime": {
     "end_time": "2024-01-29T09:38:37.867201157Z",
     "start_time": "2024-01-29T09:38:37.864582486Z"
    },
    "collapsed": false,
    "jupyter": {
     "outputs_hidden": false
    }
   },
   "outputs": [
    {
     "name": "stdout",
     "output_type": "stream",
     "text": [
      "classes found rate: 0.7929327031285167\n",
      "functions found rate: 0.8324629458082445\n"
     ]
    }
   ],
   "source": [
    "print(f\"classes found rate: {1 - len(classes[-1]) / sum(map(len, classes.values()))}\")\n",
    "print(f\"functions found rate: {1 - functions[-1] / sum(functions.values())}\")"
   ]
  },
  {
   "cell_type": "code",
   "execution_count": 27,
   "id": "3377a66dce2110e4",
   "metadata": {
    "ExecuteTime": {
     "end_time": "2024-01-29T09:38:37.867940419Z",
     "start_time": "2024-01-29T09:38:37.864947223Z"
    },
    "collapsed": false,
    "jupyter": {
     "outputs_hidden": false
    }
   },
   "outputs": [
    {
     "name": "stdout",
     "output_type": "stream",
     "text": [
      "functions found rate: 0.8324629458082445\n"
     ]
    }
   ],
   "source": []
  },
  {
   "cell_type": "code",
   "execution_count": null,
   "id": "f5e381232fd7539d",
   "metadata": {
    "collapsed": false,
    "jupyter": {
     "outputs_hidden": false
    }
   },
   "outputs": [],
   "source": []
  }
 ],
 "metadata": {
  "kernelspec": {
   "display_name": "Python 3 (ipykernel)",
   "language": "python",
   "name": "python3"
  },
  "language_info": {
   "codemirror_mode": {
    "name": "ipython",
    "version": 3
   },
   "file_extension": ".py",
   "mimetype": "text/x-python",
   "name": "python",
   "nbconvert_exporter": "python",
   "pygments_lexer": "ipython3",
   "version": "3.10.12"
  }
 },
 "nbformat": 4,
 "nbformat_minor": 5
}
