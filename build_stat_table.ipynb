{
 "cells": [
  {
   "cell_type": "code",
   "execution_count": 1,
   "id": "initial_id",
   "metadata": {
    "collapsed": true,
    "ExecuteTime": {
     "end_time": "2024-02-03T10:31:16.085577023Z",
     "start_time": "2024-02-03T10:31:16.084698061Z"
    }
   },
   "outputs": [],
   "source": [
    "import itertools\n",
    "import sys\n",
    "from pathlib import Path\n",
    "from collections import defaultdict\n",
    "\n",
    "from generate_all_functions import normalize_function, normalized_truth_tables, get_grouped_functions, get_all_functions"
   ]
  },
  {
   "cell_type": "code",
   "outputs": [],
   "source": [
    "inputs = 3\n",
    "outputs = 3\n",
    "basis = 'bench'\n",
    "circuits_dir = Path('./bench_res')"
   ],
   "metadata": {
    "collapsed": false,
    "ExecuteTime": {
     "end_time": "2024-02-03T10:31:16.866781098Z",
     "start_time": "2024-02-03T10:31:16.863065749Z"
    }
   },
   "id": "191fbec4afb193ef",
   "execution_count": 2
  },
  {
   "cell_type": "code",
   "outputs": [],
   "source": [
    "grouped_functions = get_grouped_functions(inputs, outputs, basis)"
   ],
   "metadata": {
    "collapsed": false,
    "ExecuteTime": {
     "end_time": "2024-02-03T10:32:02.550077870Z",
     "start_time": "2024-02-03T10:31:17.882603282Z"
    }
   },
   "id": "966799609ce460f0",
   "execution_count": 3
  },
  {
   "cell_type": "code",
   "outputs": [
    {
     "data": {
      "text/plain": "60176"
     },
     "execution_count": 4,
     "metadata": {},
     "output_type": "execute_result"
    }
   ],
   "source": [
    "len(grouped_functions.keys())"
   ],
   "metadata": {
    "collapsed": false,
    "ExecuteTime": {
     "end_time": "2024-02-03T10:32:09.562644228Z",
     "start_time": "2024-02-03T10:32:09.557281594Z"
    }
   },
   "id": "448baefa2429b4db",
   "execution_count": 4
  },
  {
   "cell_type": "code",
   "outputs": [],
   "source": [
    "all_functions = set(get_all_functions(inputs, outputs))"
   ],
   "metadata": {
    "collapsed": false,
    "ExecuteTime": {
     "end_time": "2024-02-03T10:16:07.434083113Z",
     "start_time": "2024-02-03T10:16:07.158177028Z"
    }
   },
   "id": "a6bc422229aca66a",
   "execution_count": 7
  },
  {
   "cell_type": "code",
   "outputs": [
    {
     "data": {
      "text/plain": "341376"
     },
     "execution_count": 8,
     "metadata": {},
     "output_type": "execute_result"
    }
   ],
   "source": [
    "len(all_functions)"
   ],
   "metadata": {
    "collapsed": false,
    "ExecuteTime": {
     "end_time": "2024-02-03T10:16:09.194228541Z",
     "start_time": "2024-02-03T10:16:09.189949498Z"
    }
   },
   "id": "a5f163df20403fa0",
   "execution_count": 8
  },
  {
   "cell_type": "code",
   "outputs": [],
   "source": [
    "all_functions_from_grouped = set().union(*grouped_functions.values())"
   ],
   "metadata": {
    "collapsed": false,
    "ExecuteTime": {
     "end_time": "2024-02-03T10:18:15.017089993Z",
     "start_time": "2024-02-03T10:18:14.974870871Z"
    }
   },
   "id": "4d4a0a51a3b37923",
   "execution_count": 9
  },
  {
   "cell_type": "markdown",
   "source": [],
   "metadata": {
    "collapsed": false
   },
   "id": "4896233521613678"
  },
  {
   "cell_type": "code",
   "outputs": [
    {
     "data": {
      "text/plain": "341376"
     },
     "execution_count": 11,
     "metadata": {},
     "output_type": "execute_result"
    }
   ],
   "source": [
    "len(all_functions_from_grouped)"
   ],
   "metadata": {
    "collapsed": false,
    "ExecuteTime": {
     "end_time": "2024-02-03T10:18:29.160289146Z",
     "start_time": "2024-02-03T10:18:29.114142139Z"
    }
   },
   "id": "a9e2a697924eb046",
   "execution_count": 11
  },
  {
   "cell_type": "code",
   "outputs": [],
   "source": [
    "get_class = {value: key for key, values in grouped_functions.items() for value in values}"
   ],
   "metadata": {
    "collapsed": false,
    "ExecuteTime": {
     "end_time": "2024-02-03T10:19:48.456878059Z",
     "start_time": "2024-02-03T10:19:48.410000766Z"
    }
   },
   "id": "bd189d0150515dcc",
   "execution_count": 12
  },
  {
   "cell_type": "code",
   "outputs": [
    {
     "data": {
      "text/plain": "341376"
     },
     "execution_count": 13,
     "metadata": {},
     "output_type": "execute_result"
    }
   ],
   "source": [
    "len(get_class.keys())"
   ],
   "metadata": {
    "collapsed": false,
    "ExecuteTime": {
     "end_time": "2024-02-03T10:19:59.332245934Z",
     "start_time": "2024-02-03T10:19:59.270991471Z"
    }
   },
   "id": "32c59ea340df1e7e",
   "execution_count": 13
  },
  {
   "cell_type": "code",
   "outputs": [],
   "source": [
    "def check_availability(tables, circuits_dir):\n",
    "    assert circuits_dir.exists()\n",
    "    filename = '_'.join(tables) + '.txt'\n",
    "    filepath = circuits_dir / filename\n",
    "    return filepath.exists()"
   ],
   "metadata": {
    "collapsed": false,
    "ExecuteTime": {
     "end_time": "2024-02-03T10:24:27.728855363Z",
     "start_time": "2024-02-03T10:24:27.686963376Z"
    }
   },
   "id": "287bc963bade1dd8",
   "execution_count": 15
  },
  {
   "cell_type": "code",
   "outputs": [],
   "source": [
    "bad_set = set()\n",
    "for function, normalized in get_class.items():\n",
    "    if not check_availability(normalized, circuits_dir):\n",
    "        bad_set.add(function)"
   ],
   "metadata": {
    "collapsed": false,
    "ExecuteTime": {
     "end_time": "2024-02-03T10:26:02.387137646Z",
     "start_time": "2024-02-03T10:26:00.073121519Z"
    }
   },
   "id": "535443c798907c5d",
   "execution_count": 17
  },
  {
   "cell_type": "code",
   "outputs": [
    {
     "data": {
      "text/plain": "45428"
     },
     "execution_count": 20,
     "metadata": {},
     "output_type": "execute_result"
    }
   ],
   "source": [
    "len(bad_set)"
   ],
   "metadata": {
    "collapsed": false,
    "ExecuteTime": {
     "end_time": "2024-02-03T10:26:50.337494612Z",
     "start_time": "2024-02-03T10:26:50.296211056Z"
    }
   },
   "id": "1cfc4b3969e41d6b",
   "execution_count": 20
  },
  {
   "cell_type": "code",
   "outputs": [],
   "source": [
    "def get_function_size(tables, circuits_dir: Path) -> int:\n",
    "    assert circuits_dir.exists()\n",
    "    filename = '_'.join(tables) + '.txt'\n",
    "    filepath = circuits_dir / filename\n",
    "    if not filepath.exists():\n",
    "        return -1  # Function not found\n",
    "    with filepath.open('r') as file:\n",
    "        lines = file.readlines()\n",
    "        function_size = len(lines) - 2\n",
    "        assert function_size >= 0\n",
    "        return function_size"
   ],
   "metadata": {
    "collapsed": false,
    "ExecuteTime": {
     "end_time": "2024-01-29T09:32:07.310398361Z",
     "start_time": "2024-01-29T09:32:07.294606201Z"
    }
   },
   "id": "6947b2e089a0fb59",
   "execution_count": 2
  },
  {
   "cell_type": "code",
   "outputs": [],
   "source": [
    "inputs = 3\n",
    "outputs = 3\n",
    "basis = 'bench'\n",
    "circuits_dir = Path('./bench_res')"
   ],
   "metadata": {
    "collapsed": false,
    "ExecuteTime": {
     "end_time": "2024-01-29T09:32:07.345088113Z",
     "start_time": "2024-01-29T09:32:07.299236913Z"
    }
   },
   "id": "f51f5266f34edcb5",
   "execution_count": 3
  },
  {
   "cell_type": "code",
   "outputs": [],
   "source": [
    "all_classes = list(normalized_truth_tables(inputs, outputs, basis))"
   ],
   "metadata": {
    "collapsed": false,
    "ExecuteTime": {
     "end_time": "2024-01-29T09:33:16.810405428Z",
     "start_time": "2024-01-29T09:32:07.345144338Z"
    }
   },
   "id": "187878c4e38ee5b1",
   "execution_count": 4
  },
  {
   "cell_type": "code",
   "outputs": [
    {
     "data": {
      "text/plain": "101940"
     },
     "execution_count": 5,
     "metadata": {},
     "output_type": "execute_result"
    }
   ],
   "source": [
    "len(all_classes)"
   ],
   "metadata": {
    "collapsed": false,
    "ExecuteTime": {
     "end_time": "2024-01-29T09:33:16.825724196Z",
     "start_time": "2024-01-29T09:33:16.811422208Z"
    }
   },
   "id": "5b352896d56af5fa",
   "execution_count": 5
  },
  {
   "cell_type": "code",
   "outputs": [
    {
     "name": "stdout",
     "output_type": "stream",
     "text": [
      "('00000000', '00010110', '00100000')\n",
      "('00000000', '00010110', '00001000')\n",
      "Final table:\n",
      "3 -> 7, 184\n",
      "4 -> 160, 3408\n",
      "5 -> 445, 10416\n",
      "6 -> 243, 5416\n",
      "7 -> 7, 136\n"
     ]
    }
   ],
   "source": [
    "classes = defaultdict(int)\n",
    "\n",
    "functions = defaultdict(int)\n",
    "\n",
    "for i, tables in enumerate(itertools.combinations(itertools.product('01', repeat=2 ** inputs - 1), outputs)):\n",
    "    tables = tuple(map(lambda x: '0' + ''.join(x), tables))\n",
    "    # if len(set(tables)) != len(tables):\n",
    "    #     continue\n",
    "    class_representative = get_equivalence_class(inputs, tables, basis)\n",
    "    # assert class_representative in all_classes, f\"{class_representative}\"\n",
    "    function_size = get_function_size(class_representative, circuits_dir)\n",
    "    if function_size == -1:\n",
    "        print(\"Error\")\n",
    "        print(tables)\n",
    "        print(class_representative)\n",
    "        break\n",
    "    classes[function_size] += int(tables == class_representative)\n",
    "    functions[function_size] += 1 << outputs\n",
    "\n",
    "    if i % 10000 == 0 and i > 0:\n",
    "        print(f'============{i}============', file=sys.stderr)\n",
    "        for s in sorted(classes.keys()):\n",
    "            print(f'{s} -> {classes[s]}, {functions[s]}', file=sys.stderr)\n",
    "        print(f'============{i}============', file=sys.stderr)\n",
    "\n",
    "print(\"Final table:\")\n",
    "for s in sorted(classes.keys()):\n",
    "    print(f'{s} -> {classes[s]}, {functions[s]}')"
   ],
   "metadata": {
    "collapsed": false,
    "ExecuteTime": {
     "end_time": "2024-01-29T12:01:59.879305994Z",
     "start_time": "2024-01-29T12:01:59.361699625Z"
    }
   },
   "id": "e462cc307acf7e0",
   "execution_count": 13
  },
  {
   "cell_type": "code",
   "outputs": [
    {
     "name": "stdout",
     "output_type": "stream",
     "text": [
      "Sanity check: True\n",
      "Total functions enumerated: 16777216\n",
      "16777216 functions expected\n"
     ]
    }
   ],
   "source": [
    "sanity_check = sum(functions.values()) == (2 ** (2 ** inputs)) ** outputs\n",
    "print(f\"Sanity check: {sanity_check}\")\n",
    "print(f\"Total functions enumerated: {sum(functions.values())}\")\n",
    "print(f\"{(2 ** (2 ** inputs)) ** outputs} functions expected\")"
   ],
   "metadata": {
    "collapsed": false,
    "ExecuteTime": {
     "end_time": "2024-01-29T09:38:37.866531389Z",
     "start_time": "2024-01-29T09:38:37.864140277Z"
    }
   },
   "id": "d53eade13d63450",
   "execution_count": 7
  },
  {
   "cell_type": "code",
   "outputs": [
    {
     "data": {
      "text/plain": "0.9595617304868406"
     },
     "execution_count": 8,
     "metadata": {},
     "output_type": "execute_result"
    }
   ],
   "source": [
    "1 - classes[-1] / sum(classes.values())"
   ],
   "metadata": {
    "collapsed": false,
    "ExecuteTime": {
     "end_time": "2024-01-29T09:38:37.867201157Z",
     "start_time": "2024-01-29T09:38:37.864582486Z"
    }
   },
   "id": "3a0e76c558378b97",
   "execution_count": 8
  },
  {
   "cell_type": "code",
   "outputs": [
    {
     "data": {
      "text/plain": "0.8467140197753906"
     },
     "execution_count": 9,
     "metadata": {},
     "output_type": "execute_result"
    }
   ],
   "source": [
    "1 - functions[-1] / sum(functions.values())"
   ],
   "metadata": {
    "collapsed": false,
    "ExecuteTime": {
     "end_time": "2024-01-29T09:38:37.867940419Z",
     "start_time": "2024-01-29T09:38:37.864947223Z"
    }
   },
   "id": "3377a66dce2110e4",
   "execution_count": 9
  },
  {
   "cell_type": "code",
   "outputs": [],
   "source": [],
   "metadata": {
    "collapsed": false
   },
   "id": "f5e381232fd7539d"
  }
 ],
 "metadata": {
  "kernelspec": {
   "display_name": "Python 3",
   "language": "python",
   "name": "python3"
  },
  "language_info": {
   "codemirror_mode": {
    "name": "ipython",
    "version": 2
   },
   "file_extension": ".py",
   "mimetype": "text/x-python",
   "name": "python",
   "nbconvert_exporter": "python",
   "pygments_lexer": "ipython2",
   "version": "2.7.6"
  }
 },
 "nbformat": 4,
 "nbformat_minor": 5
}
